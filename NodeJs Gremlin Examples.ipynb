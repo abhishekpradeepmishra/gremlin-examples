{
 "cells": [
  {
   "cell_type": "markdown",
   "source": [
    "## This is example notebook to show some example queries using nodejs gremlin driver. Driver details are here: https://www.npmjs.com/package/gremlin"
   ],
   "metadata": {}
  },
  {
   "cell_type": "markdown",
   "source": [
    "### install pixiedust_node"
   ],
   "metadata": {}
  },
  {
   "cell_type": "code",
   "execution_count": null,
   "source": [
    "!pip install pixiedust_node"
   ],
   "outputs": [],
   "metadata": {}
  },
  {
   "cell_type": "markdown",
   "source": [
    "### import pixiedust_node"
   ],
   "metadata": {}
  },
  {
   "cell_type": "code",
   "execution_count": null,
   "source": [
    "import pixiedust_node"
   ],
   "outputs": [],
   "metadata": {}
  },
  {
   "cell_type": "markdown",
   "source": [
    "### install gremlin javascript driver"
   ],
   "metadata": {}
  },
  {
   "cell_type": "code",
   "execution_count": null,
   "source": [
    "# install node packages\n",
    "npm.install('gremlin')"
   ],
   "outputs": [],
   "metadata": {}
  },
  {
   "cell_type": "code",
   "execution_count": null,
   "source": [
    "%%node \n",
    "\n",
    "const gremlin = require('gremlin');\n",
    "const traversal = gremlin.process.AnonymousTraversalSource.traversal;\n",
    "const DriverRemoteConnection = gremlin.driver.DriverRemoteConnection\n",
    "\n",
    "const { cardinality: { single } } = gremlin.process;\n",
    "const __ = gremlin.process.statics;\n",
    "const column = gremlin.process.column\n",
    "const direction = gremlin.process.direction\n",
    "const p = gremlin.process.P\n",
    "const textp = gremlin.process.TextP\n",
    "const pick = gremlin.process.pick\n",
    "const pop = gremlin.process.pop\n",
    "const order = gremlin.process.order\n",
    "const scope = gremlin.process.scope\n",
    "const t = gremlin.process.t\n",
    "\n",
    "\n",
    "const g = traversal().withRemote(new DriverRemoteConnection('wss://<neptuneclusteridentifier>:<port>/gremlin'));\n"
   ],
   "outputs": [],
   "metadata": {}
  },
  {
   "cell_type": "markdown",
   "source": [
    "### Create Single Vertex"
   ],
   "metadata": {}
  },
  {
   "cell_type": "code",
   "execution_count": null,
   "source": [
    "%%node\n",
    "\n",
    "try {\n",
    "    const queryPromise =  g.addV('person').property(t.id, \"user@domain.com\")\n",
    "            .property(single, 'firstname', 'firstname')\n",
    "            .property(single, 'lastname', 'lastname')\n",
    "            .next();\n",
    "    \n",
    "    queryPromise.then(data => {\n",
    "        console.log(JSON.stringify(data));\n",
    "    })\n",
    "}\n",
    "catch(ex){\n",
    "    console.log(ex);\n",
    "}\n"
   ],
   "outputs": [],
   "metadata": {}
  },
  {
   "cell_type": "markdown",
   "source": [
    "### Add multiple vertices and edges"
   ],
   "metadata": {}
  },
  {
   "cell_type": "code",
   "execution_count": null,
   "source": [
    "%%node\n",
    "\n",
    "try {\n",
    "    const queryPromise =  g.addV('person').property(t.id, \"user2@domain.com\")\n",
    "            .property(single, 'firstname', 'firstname')\n",
    "            .property(single, 'lastname', 'lastname')\n",
    "            .as(\"user2\")\n",
    "            .addV('movie')\n",
    "            .property(t.id, \"movie\")\n",
    "            .property(single, 'title', 'movietitle')\n",
    "            .as(\"movie\")\n",
    "            .addE(\"watched\")\n",
    "            .from_('user2').to('movie')\n",
    "            .iterate();\n",
    "    \n",
    "    queryPromise.then(data => {\n",
    "        console.log(data);\n",
    "    })\n",
    "}\n",
    "catch(ex){\n",
    "    console.log(ex);\n",
    "}\n"
   ],
   "outputs": [],
   "metadata": {}
  },
  {
   "cell_type": "markdown",
   "source": [
    "### Add edges between existing vertices"
   ],
   "metadata": {}
  },
  {
   "cell_type": "code",
   "execution_count": null,
   "source": [
    "%%node\n",
    "\n",
    "try {\n",
    "    const queryPromise =  g.addE(\"watched\")\n",
    "            .from_(__.V('user@domain.com')).to(__.V('movie'))\n",
    "            .next();\n",
    "    \n",
    "    queryPromise.then(data => {\n",
    "        console.log(JSON.stringify(data));\n",
    "    })\n",
    "}\n",
    "catch(ex){\n",
    "    console.log(ex);\n",
    "}"
   ],
   "outputs": [],
   "metadata": {}
  },
  {
   "cell_type": "markdown",
   "source": [
    "### Read vertex and its attributes"
   ],
   "metadata": {}
  },
  {
   "cell_type": "code",
   "execution_count": null,
   "source": [
    "%%node\n",
    "\n",
    "try {\n",
    "    \n",
    "    const getPersonPromise= g.V().has(\"title\",\"movietitle\").valueMap(true).limit(10).toList();\n",
    "    \n",
    "    getPersonPromise.then(data => {\n",
    "        data.forEach(item => {\n",
    "            console.log(item);\n",
    "        });\n",
    "    });\n",
    "    \n",
    "}\n",
    "catch(ex){\n",
    "    console.log(ex);\n",
    "}"
   ],
   "outputs": [],
   "metadata": {}
  },
  {
   "cell_type": "markdown",
   "source": [
    "### Read vertex connections"
   ],
   "metadata": {}
  },
  {
   "cell_type": "code",
   "execution_count": null,
   "source": [
    "%%node\n",
    "\n",
    "try {\n",
    "    \n",
    "    const getPersonPromise= g.V(\"user1@domain.com\").out(\"watched\").valueMap(true).limit(10).toList();\n",
    "    \n",
    "    getPersonPromise.then(data => {\n",
    "        data.forEach(item => {\n",
    "            console.log(item);\n",
    "        });\n",
    "    });\n",
    "    \n",
    "}\n",
    "catch(ex){\n",
    "    console.log(ex);\n",
    "}"
   ],
   "outputs": [],
   "metadata": {}
  }
 ],
 "metadata": {
  "kernelspec": {
   "name": "python3",
   "display_name": "Python 3.7.7 64-bit"
  },
  "language_info": {
   "codemirror_mode": {
    "name": "ipython",
    "version": 3
   },
   "file_extension": ".py",
   "mimetype": "text/x-python",
   "name": "python",
   "nbconvert_exporter": "python",
   "pygments_lexer": "ipython3",
   "version": "3.7.7"
  },
  "interpreter": {
   "hash": "aee8b7b246df8f9039afb4144a1f6fd8d2ca17a180786b69acc140d282b71a49"
  }
 },
 "nbformat": 4,
 "nbformat_minor": 5
}